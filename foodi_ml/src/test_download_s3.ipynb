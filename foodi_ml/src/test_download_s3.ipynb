{
 "cells": [
  {
   "cell_type": "code",
   "execution_count": 1,
   "id": "78b29132",
   "metadata": {},
   "outputs": [],
   "source": [
    "import os\n",
    "import pandas as pd\n",
    "import multiprocessing\n",
    "import sys\n",
    "os.chdir(\"/home/ec2-user/SageMaker/foodi_ml/\")\n",
    "from config import configs as conf"
   ]
  },
  {
   "cell_type": "code",
   "execution_count": 2,
   "id": "dc55ef1e",
   "metadata": {},
   "outputs": [],
   "source": [
    "from importlib import reload"
   ]
  },
  {
   "cell_type": "code",
   "execution_count": 3,
   "id": "67e8e571",
   "metadata": {},
   "outputs": [],
   "source": [
    "import src.utils.utils_aws as utils_aws"
   ]
  },
  {
   "cell_type": "code",
   "execution_count": 16,
   "id": "3178c01e",
   "metadata": {},
   "outputs": [],
   "source": [
    "utils_aws = reload(utils_aws)\n",
    "conf = reload(conf)"
   ]
  },
  {
   "cell_type": "markdown",
   "id": "dab6e4ee",
   "metadata": {},
   "source": [
    "# AWS"
   ]
  },
  {
   "cell_type": "code",
   "execution_count": 5,
   "id": "c539686a",
   "metadata": {},
   "outputs": [],
   "source": [
    "# AWS classes\n",
    "aws_con = utils_aws.AWSConnector(conf.S3_BUCKET)\n",
    "awstools = utils_aws.AWSTools(aws_con)\n",
    "aws_basics = utils_aws.AWSBasics(conf.S3_BUCKET)"
   ]
  },
  {
   "cell_type": "markdown",
   "id": "f50f859c",
   "metadata": {},
   "source": [
    "# List cities"
   ]
  },
  {
   "cell_type": "code",
   "execution_count": 6,
   "id": "b33417a2",
   "metadata": {},
   "outputs": [
    {
     "name": "stdout",
     "output_type": "stream",
     "text": [
      "['BCN', 'CUG']\n"
     ]
    }
   ],
   "source": [
    "l_cities = awstools.create_list_cities(conf.S3K_imgs)\n",
    "print(l_cities)"
   ]
  },
  {
   "cell_type": "markdown",
   "id": "8b61e120",
   "metadata": {},
   "source": [
    "# Download samples CSV"
   ]
  },
  {
   "cell_type": "code",
   "execution_count": 7,
   "id": "d1ed2d64",
   "metadata": {},
   "outputs": [
    {
     "name": "stdout",
     "output_type": "stream",
     "text": [
      "Key artifacts/002/BCN/training_data.csv not found in S3\n",
      "Removing from l_cities city BCN\n",
      "City CUG correctly downloaded to /home/ec2-user/SageMaker/tmp/training_data/CUG.csv\n"
     ]
    }
   ],
   "source": [
    "l_cities = awstools.downloading_city_csv(\n",
    "    l_cities=l_cities,\n",
    "    s3_key_prefix=conf.S3K_imgs,\n",
    "    csv_name=conf.S3_file_samples,\n",
    "    local_folder=conf.pth_dwn_samples,\n",
    "    verbose=True\n",
    ")"
   ]
  },
  {
   "cell_type": "markdown",
   "id": "2edca67b",
   "metadata": {},
   "source": [
    "# Read and concatenate CSV"
   ]
  },
  {
   "cell_type": "code",
   "execution_count": 8,
   "id": "29bd1ac1",
   "metadata": {},
   "outputs": [],
   "source": [
    "# Get all csv we downloaded\n",
    "l_csv = os.listdir(conf.pth_dwn_samples)\n",
    "\n",
    "# Impose only .csv\n",
    "l_csv = [file_name for file_name in l_csv if file_name.endswith(\".csv\")]"
   ]
  },
  {
   "cell_type": "code",
   "execution_count": 9,
   "id": "b727356a",
   "metadata": {},
   "outputs": [],
   "source": [
    "# Concatenation to a single dataframe\n",
    "samples = pd.DataFrame()"
   ]
  },
  {
   "cell_type": "code",
   "execution_count": 10,
   "id": "b59028de",
   "metadata": {},
   "outputs": [],
   "source": [
    "# Read and concatenate each city dataframe to samples\n",
    "for city_csv_file in l_csv:\n",
    "    path_csv = os.path.join(conf.pth_dwn_samples, city_csv_file)\n",
    "    df_city_csv = pd.read_csv(path_csv)\n",
    "    df_city_csv.insert(loc=0, \n",
    "                       column=\"city\", \n",
    "                       value = city_csv_file.split(\".csv\")[0])\n",
    "    samples = pd.concat([samples, df_city_csv])"
   ]
  },
  {
   "cell_type": "markdown",
   "id": "7bda6e5a",
   "metadata": {},
   "source": [
    "# Download images specified in samples CSV"
   ]
  },
  {
   "cell_type": "code",
   "execution_count": 17,
   "id": "9e4bc92d",
   "metadata": {},
   "outputs": [],
   "source": [
    "# Creates the folder to dump images\n",
    "img_dwn_paral = utils_aws.ImageDownloaderParallelS3(\n",
    "    base_path=conf.pth_dwn_pictures\n",
    ")"
   ]
  },
  {
   "cell_type": "code",
   "execution_count": 18,
   "id": "146eaacf",
   "metadata": {},
   "outputs": [],
   "source": [
    "# Create iterable of jobs\n",
    "jobs = img_dwn_paral.create_jobs(samples)"
   ]
  },
  {
   "cell_type": "code",
   "execution_count": 19,
   "id": "a24b0e78",
   "metadata": {},
   "outputs": [],
   "source": [
    "# make a process pool to do the work\n",
    "pool = multiprocessing.Pool(multiprocessing.cpu_count(), \n",
    "                            img_dwn_paral.initialize,\n",
    "                            (conf.S3_BUCKET,)\n",
    "                           )"
   ]
  },
  {
   "cell_type": "code",
   "execution_count": null,
   "id": "a7661097",
   "metadata": {},
   "outputs": [],
   "source": [
    "%%time\n",
    "pool.map(img_dwn_paral.download_images, jobs)\n",
    "pool.close()\n",
    "pool.join()"
   ]
  },
  {
   "cell_type": "markdown",
   "id": "0ff4264e",
   "metadata": {},
   "source": [
    "# [ARCHIVE]"
   ]
  },
  {
   "cell_type": "markdown",
   "id": "8a56da73",
   "metadata": {},
   "source": [
    "## Image Downloader S3 without parallelization"
   ]
  },
  {
   "cell_type": "code",
   "execution_count": 18,
   "id": "5b7bd3bc",
   "metadata": {},
   "outputs": [
    {
     "data": {
      "text/plain": [
       "'\\nimage_downloader = utils_aws.ImageDownloaderS3(\\n    bucket=conf.S3_BUCKET, \\n    base_path=conf.pth_dwn_pictures)\\n\\ncity = l_cities[0]\\n\\nsamples_city = samples[samples[\"city\"] == city].copy()\\n\\n%%time\\nsamples_city = image_downloader.download_imgs_in_disk(samples_city)\\n'"
      ]
     },
     "execution_count": 18,
     "metadata": {},
     "output_type": "execute_result"
    }
   ],
   "source": [
    "\"\"\"\n",
    "image_downloader = utils_aws.ImageDownloaderS3(\n",
    "    bucket=conf.S3_BUCKET, \n",
    "    base_path=conf.pth_dwn_pictures)\n",
    "\n",
    "city = l_cities[0]\n",
    "\n",
    "samples_city = samples[samples[\"city\"] == city].copy()\n",
    "\n",
    "%%time\n",
    "samples_city = image_downloader.download_imgs_in_disk(samples_city)\n",
    "\"\"\"\n"
   ]
  },
  {
   "cell_type": "code",
   "execution_count": null,
   "id": "a44e837f",
   "metadata": {},
   "outputs": [],
   "source": []
  }
 ],
 "metadata": {
  "kernelspec": {
   "display_name": "conda_pytorch_p36",
   "language": "python",
   "name": "conda_pytorch_p36"
  },
  "language_info": {
   "codemirror_mode": {
    "name": "ipython",
    "version": 3
   },
   "file_extension": ".py",
   "mimetype": "text/x-python",
   "name": "python",
   "nbconvert_exporter": "python",
   "pygments_lexer": "ipython3",
   "version": "3.6.13"
  }
 },
 "nbformat": 4,
 "nbformat_minor": 5
}
